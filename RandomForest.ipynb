{
  "nbformat": 4,
  "nbformat_minor": 0,
  "metadata": {
    "colab": {
      "provenance": [],
      "mount_file_id": "1mj4aaYvGQ2jwxBvODh_S4aUMDEVhQ6sr",
      "authorship_tag": "ABX9TyP4gheQ3oejmkSg6zwHcwGb",
      "include_colab_link": true
    },
    "kernelspec": {
      "name": "python3",
      "display_name": "Python 3"
    },
    "language_info": {
      "name": "python"
    }
  },
  "cells": [
    {
      "cell_type": "markdown",
      "metadata": {
        "id": "view-in-github",
        "colab_type": "text"
      },
      "source": [
        "<a href=\"https://colab.research.google.com/github/CitricSpice98/Random-Forest-Classifier/blob/main/RandomForest.ipynb\" target=\"_parent\"><img src=\"https://colab.research.google.com/assets/colab-badge.svg\" alt=\"Open In Colab\"/></a>"
      ]
    },
    {
      "cell_type": "markdown",
      "source": [
        "Online Assessment\n"
      ],
      "metadata": {
        "id": "MNpbH6kfcvtJ"
      }
    },
    {
      "cell_type": "markdown",
      "source": [
        "Problem 1"
      ],
      "metadata": {
        "id": "KzpuK_h8c1K3"
      }
    },
    {
      "cell_type": "markdown",
      "source": [
        "Imports\n"
      ],
      "metadata": {
        "id": "oBh9KBVealq9"
      }
    },
    {
      "cell_type": "code",
      "source": [
        "import pandas as pd\n",
        "from sklearn.model_selection import train_test_split\n",
        "import numpy as np\n",
        "import matplotlib.pyplot as plt\n",
        "import seaborn as sns\n",
        "%matplotlib inline"
      ],
      "metadata": {
        "id": "UzPvabcEEC9t"
      },
      "execution_count": 1,
      "outputs": []
    },
    {
      "cell_type": "code",
      "source": [],
      "metadata": {
        "id": "a45MSxQm_6LH"
      },
      "execution_count": null,
      "outputs": []
    },
    {
      "cell_type": "markdown",
      "source": [
        "Data\n",
        "Preprocessing\n"
      ],
      "metadata": {
        "id": "DOvRIjJtaeFo"
      }
    },
    {
      "cell_type": "code",
      "execution_count": 2,
      "metadata": {
        "id": "J92NU7sIcSkD"
      },
      "outputs": [],
      "source": [
        "features = pd.read_csv('/content/student_dataset.csv')\n",
        "labels = pd.read_csv('/content/generated_label_set.csv')"
      ]
    },
    {
      "cell_type": "code",
      "source": [
        "print(\"Features data:\")\n",
        "print(features.head())\n",
        "print(\"\\nLabels data:\")\n",
        "print(labels.head())"
      ],
      "metadata": {
        "id": "ET-xJ2ExcuDI",
        "colab": {
          "base_uri": "https://localhost:8080/"
        },
        "outputId": "7c038118-bfa2-4936-f9c5-bd142ca69ec3"
      },
      "execution_count": 3,
      "outputs": [
        {
          "output_type": "stream",
          "name": "stdout",
          "text": [
            "Features data:\n",
            "              Name  SAT Score  High School GPA  Courses in Arts  \\\n",
            "0     Sarah Nelson        594             2.10                0   \n",
            "1      James Marsh       1100             3.81                1   \n",
            "2     James Galvan        494             2.06                1   \n",
            "3  Russell Johnson       1246             3.69                2   \n",
            "4       Maria Clay        726             1.22                1   \n",
            "\n",
            "   Courses in STEM  Courses in Finance  Courses in Other  Age  Family Income  \\\n",
            "0                2                   2                 2   23         234000   \n",
            "1                1                   3                 1   22          41000   \n",
            "2                4                   1                 0   23          66000   \n",
            "3                1                   1                 2   25          83000   \n",
            "4                0                   3                 2   19         226000   \n",
            "\n",
            "  Part Time Employment  Hours of Study  Hours of Extracurriculars  \n",
            "0                   No               5                          0  \n",
            "1                  Yes               4                          4  \n",
            "2                  Yes               6                          2  \n",
            "3                  Yes               0                          4  \n",
            "4                   No               1                          2  \n",
            "\n",
            "Labels data:\n",
            "              Name   GPA    Major        Post Graduate Career\n",
            "0     Sarah Nelson  1.97     STEM  Out of industry employment\n",
            "1      James Marsh  3.97  Finance  Out of industry employment\n",
            "2     James Galvan  2.29     STEM  Out of industry employment\n",
            "3  Russell Johnson  3.67  Finance      In Industry employment\n",
            "4       Maria Clay  1.11  Finance  Out of industry employment\n"
          ]
        }
      ]
    },
    {
      "cell_type": "code",
      "source": [],
      "metadata": {
        "id": "rIW760aBT8A0"
      },
      "execution_count": null,
      "outputs": []
    },
    {
      "cell_type": "markdown",
      "source": [
        "Linear Regression\n"
      ],
      "metadata": {
        "id": "IjEo4KNPa9HO"
      }
    },
    {
      "cell_type": "markdown",
      "source": [
        "Random Forest"
      ],
      "metadata": {
        "id": "clm9FohbCp6g"
      }
    },
    {
      "cell_type": "code",
      "source": [
        "# Preprocessing\n",
        "processed_features = features.drop(columns=['Name'])\n",
        "processed_labels = labels.drop(columns=['Name'])\n",
        "\n",
        "# Convert categorical variables to numerical\n",
        "processed_features['Part Time Employment'] = processed_features['Part Time Employment'].map({'Yes': 1, 'No': 0})\n",
        "processed_labels['Major']= processed_labels['Major'].map({'STEM': 0, 'Finance': 1,'Arts' : 2, 'Other' : 3})\n",
        "processed_labels['Post Graduate Career']= processed_labels['Post Graduate Career'].map({'Out of industry employment': 0, 'In Industry employment': 1, 'Post graduate studies' : 2})\n",
        "# Define X and y\n",
        "y = processed_labels['GPA'].values\n",
        "X = processed_features.values\n",
        "\n",
        "# Add intercept term (bias)\n",
        "X = np.hstack([np.ones((X.shape[0], 1)), X])  # Add column of 1s to X"
      ],
      "metadata": {
        "id": "EiVeZ7VNCpnm"
      },
      "execution_count": 4,
      "outputs": []
    },
    {
      "cell_type": "code",
      "source": [
        "def split_dataset(X, y, feature, threshold):\n",
        "    left_idx = X[:, feature] <= threshold\n",
        "    right_idx = X[:, feature] > threshold\n",
        "    return X[left_idx], y[left_idx], X[right_idx], y[right_idx]"
      ],
      "metadata": {
        "id": "fnc3IYDvCpik"
      },
      "execution_count": 5,
      "outputs": []
    },
    {
      "cell_type": "code",
      "source": [
        "def mse(y):\n",
        "    if len(y) == 0:\n",
        "        return 0\n",
        "    return np.mean((y - np.mean(y)) ** 2)"
      ],
      "metadata": {
        "id": "ZttPco9Qh8QB"
      },
      "execution_count": 6,
      "outputs": []
    },
    {
      "cell_type": "code",
      "source": [
        "def best_split(X, y):\n",
        "    best_feature, best_threshold, best_score = None, None, float('inf')\n",
        "    n_features = X.shape[1]\n",
        "\n",
        "    for feature in range(n_features):\n",
        "        thresholds = np.unique(X[:, feature])\n",
        "        for threshold in thresholds:\n",
        "            X_left, y_left, X_right, y_right = split_dataset(X, y, feature, threshold)\n",
        "            if len(y_left) == 0 or len(y_right) == 0:\n",
        "                continue\n",
        "            score = (len(y_left) * mse(y_left) + len(y_right) * mse(y_right)) / len(y)\n",
        "            if score < best_score:\n",
        "                best_score = score\n",
        "                best_feature = feature\n",
        "                best_threshold = threshold\n",
        "    return best_feature, best_threshold"
      ],
      "metadata": {
        "id": "acill7cjWDQM"
      },
      "execution_count": 7,
      "outputs": []
    },
    {
      "cell_type": "code",
      "source": [
        "class TreeNode:\n",
        "    def __init__(self, feature=None, threshold=None, left=None, right=None, value=None):\n",
        "        self.feature = feature\n",
        "        self.threshold = threshold\n",
        "        self.left = left\n",
        "        self.right = right\n",
        "        self.value = value\n",
        "\n",
        "def build_tree(X, y, max_depth, min_samples_split, depth=0):\n",
        "    if depth >= max_depth or len(y) < min_samples_split or len(set(y)) == 1:\n",
        "        return TreeNode(value=np.mean(y))\n",
        "\n",
        "    feature, threshold = best_split(X, y)\n",
        "    if feature is None:\n",
        "        return TreeNode(value=np.mean(y))\n",
        "\n",
        "    X_left, y_left, X_right, y_right = split_dataset(X, y, feature, threshold)\n",
        "    left_node = build_tree(X_left, y_left, max_depth, min_samples_split, depth + 1)\n",
        "    right_node = build_tree(X_right, y_right, max_depth, min_samples_split, depth + 1)\n",
        "\n",
        "    return TreeNode(feature, threshold, left_node, right_node)\n",
        "\n",
        "def predict_tree(tree, x):\n",
        "    while tree.value is None:\n",
        "        if x[tree.feature] <= tree.threshold:\n",
        "            tree = tree.left\n",
        "        else:\n",
        "            tree = tree.right\n",
        "    return tree.value"
      ],
      "metadata": {
        "id": "QRZqyHhrWDK-"
      },
      "execution_count": 8,
      "outputs": []
    },
    {
      "cell_type": "code",
      "source": [
        "class RandomForestRegressorScratch:\n",
        "    def __init__(self, n_trees=10, max_depth=5, min_samples_split=2, sample_ratio=0.8):\n",
        "        self.n_trees = n_trees\n",
        "        self.max_depth = max_depth\n",
        "        self.min_samples_split = min_samples_split\n",
        "        self.sample_ratio = sample_ratio\n",
        "        self.trees = []\n",
        "\n",
        "    def fit(self, X, y):\n",
        "        self.trees = []\n",
        "        n_samples = X.shape[0]\n",
        "        for _ in range(self.n_trees):\n",
        "            indices = np.random.choice(n_samples, int(self.sample_ratio * n_samples), replace=True)\n",
        "            X_sample = X[indices]\n",
        "            y_sample = y[indices]\n",
        "            tree = build_tree(X_sample, y_sample, self.max_depth, self.min_samples_split)\n",
        "            self.trees.append(tree)\n",
        "\n",
        "    def predict(self, X):\n",
        "        tree_preds = np.array([[predict_tree(tree, x) for tree in self.trees] for x in X])\n",
        "        return np.mean(tree_preds, axis=1)"
      ],
      "metadata": {
        "id": "Y2Du2f3TWQpd"
      },
      "execution_count": 9,
      "outputs": []
    },
    {
      "cell_type": "code",
      "source": [
        "# Initialize model\n",
        "model = RandomForestRegressorScratch(n_trees=5, max_depth=6)\n",
        "\n",
        "# Train the model\n",
        "model.fit(X, y)\n",
        "\n",
        "# Predict on training data (or split it to evaluate properly)\n",
        "predictions = model.predict(X)"
      ],
      "metadata": {
        "id": "D06C8b8tWUOo"
      },
      "execution_count": 10,
      "outputs": []
    },
    {
      "cell_type": "code",
      "source": [
        "def root_mean_squared_error(y_true, y_pred):\n",
        "    return np.sqrt(np.mean((y_true - y_pred) ** 2))\n",
        "\n",
        "rmse = root_mean_squared_error(y, predictions)\n",
        "print(f\"Training RMSE: {rmse:.4f}\")"
      ],
      "metadata": {
        "colab": {
          "base_uri": "https://localhost:8080/"
        },
        "id": "ihup2zyzWnsS",
        "outputId": "341485ad-4c77-4a98-a25e-2ade7838d3ba"
      },
      "execution_count": 11,
      "outputs": [
        {
          "output_type": "stream",
          "name": "stdout",
          "text": [
            "Training RMSE: 0.1739\n"
          ]
        }
      ]
    },
    {
      "cell_type": "code",
      "source": [
        "print(\"predictions :\",predictions)\n"
      ],
      "metadata": {
        "colab": {
          "base_uri": "https://localhost:8080/"
        },
        "id": "8qlwhumFYCll",
        "outputId": "3a41cdb8-3f8e-498f-e7ac-37c84abe1b00"
      },
      "execution_count": 12,
      "outputs": [
        {
          "output_type": "stream",
          "name": "stdout",
          "text": [
            "predictions : [1.97921429 3.76055238 2.16365714 3.68509333 1.19061667 3.65271238\n",
            " 3.27       2.20446154 1.362      1.74620741 2.36625714 2.68885714\n",
            " 3.60202667 1.78484752 1.42510794 2.48186825 2.72769048 1.93266154\n",
            " 1.79595    3.61408727 3.442      1.68430265 1.74915466 1.73042857\n",
            " 3.47433333 3.61288727 1.85372963 3.054      1.64338598 1.56035043\n",
            " 1.70334725 1.70458333 1.32675    2.14386667 3.37476    1.337\n",
            " 3.56942061 3.17516    2.28685714 2.19152381 1.25213333 1.81119312\n",
            " 1.211      3.68388571 1.16475    1.32306667 3.41776    3.73354632\n",
            " 1.32675    1.20636667 2.64793557 1.64719312 1.71183614 3.35916\n",
            " 1.35706667 3.095      1.1198     3.35516    3.24716    1.75058201\n",
            " 1.42402222 1.5712328  3.60716    3.66337299 2.35333333 2.49075714\n",
            " 2.62285714 3.62950632 1.24721667 1.50035    1.67980423 2.19602381\n",
            " 3.53555394 2.3753     2.311      2.73176891 3.03541176 2.54613492\n",
            " 2.974      1.76771154 3.40649333 2.16926154 1.58322222 3.53002667\n",
            " 2.04302381 1.96166895 1.582      2.66026891 3.86151299 3.33216\n",
            " 2.08371429 2.872      3.73437905 1.62491534 3.55502667 2.61396825\n",
            " 1.2708     2.35742605 1.40846667 1.19061667 1.19861667 2.20895714\n",
            " 2.01146429 2.78341176 2.4457451  1.1159     2.57243557 2.63126891\n",
            " 3.058      1.43154074 1.1473     2.52213492 1.76135043 3.28\n",
            " 2.58696825 1.76691534 1.88662963 1.35706667 1.76642963 3.59602667\n",
            " 3.294      2.37533333 2.66146825 1.60100423 2.20062605 2.0855\n",
            " 3.204      3.52416    1.65896931 3.64042667 3.4776     3.58686667\n",
            " 2.03868095 1.61178836 2.80860224 1.16775    1.22986667 1.84236895\n",
            " 1.43360741 3.68388571 3.17       3.66337299 1.1982     3.29\n",
            " 1.78208333 1.52019683 2.8507451  3.175      1.93075    1.1585\n",
            " 3.89705238 2.40635714 1.49102222 2.27233333 2.90811111 3.61408727\n",
            " 2.29725714 3.40016    1.91700952 2.83641176 1.6821     3.71655238\n",
            " 2.72976891 3.65271238 1.37228889 1.70188889 2.90441176 1.17255\n",
            " 1.33284444 1.68589117 2.79311111 3.65042667 2.33927619 1.332\n",
            " 3.64042667 3.53182061 3.17516    1.58558201 1.4195     2.47\n",
            " 2.58016891 3.48782061 3.81221238 3.59376    2.75030159 1.7840963\n",
            " 2.1242     2.55096825 3.32966    1.49061905 3.017      3.56033333\n",
            " 1.75058201 1.91886154 1.4754     3.55844571 1.65856154 3.68388571\n",
            " 2.81091176 2.823     ]\n"
          ]
        }
      ]
    },
    {
      "cell_type": "code",
      "source": [
        "y_class = processed_labels['Major'].values.flatten()  # this should be categorical (majors)\n",
        "X_class = processed_features.values.astype(float)\n",
        "print(set(type(label) for label in y_class))\n"
      ],
      "metadata": {
        "colab": {
          "base_uri": "https://localhost:8080/"
        },
        "id": "8GOpTCLnhW1-",
        "outputId": "5ab7ff94-e7a8-4875-a946-21d5c1e7c32d"
      },
      "execution_count": 13,
      "outputs": [
        {
          "output_type": "stream",
          "name": "stdout",
          "text": [
            "{<class 'numpy.int64'>}\n"
          ]
        }
      ]
    },
    {
      "cell_type": "markdown",
      "source": [
        "Calculate Gini Impurity ( How mixed up the classes are in the node )"
      ],
      "metadata": {
        "id": "j5j5gu2G2Yfb"
      }
    },
    {
      "cell_type": "code",
      "source": [
        "def gini(y):\n",
        "    classes, counts = np.unique(y, return_counts=True)\n",
        "    probs = counts / counts.sum()\n",
        "    return 1 - np.sum(probs ** 2)"
      ],
      "metadata": {
        "id": "-QPPjL98lYpg"
      },
      "execution_count": 14,
      "outputs": []
    },
    {
      "cell_type": "markdown",
      "source": [],
      "metadata": {
        "id": "aN0eOdDX2kP-"
      }
    },
    {
      "cell_type": "code",
      "source": [
        "def best_split_classification(X, y):\n",
        "    best_feature, best_threshold, best_score = None, None, float('inf')\n",
        "    n_features = X.shape[1]\n",
        "\n",
        "    for feature in range(n_features):\n",
        "        thresholds = np.unique(X[:, feature])\n",
        "        for threshold in thresholds:\n",
        "            left_idx = X[:, feature] <= threshold\n",
        "            right_idx = ~left_idx\n",
        "            y_left, y_right = y[left_idx], y[right_idx]\n",
        "            if len(y_left) == 0 or len(y_right) == 0:\n",
        "                continue\n",
        "            score = (len(y_left) * gini(y_left) + len(y_right) * gini(y_right)) / len(y)\n",
        "            if score < best_score:\n",
        "                best_score = score\n",
        "                best_feature = feature\n",
        "                best_threshold = threshold\n",
        "    return best_feature, best_threshold"
      ],
      "metadata": {
        "id": "m9YKI_Sxlckq"
      },
      "execution_count": 15,
      "outputs": []
    },
    {
      "cell_type": "code",
      "source": [
        "class TreeNodeClassifier:\n",
        "    def __init__(self, feature=None, threshold=None, left=None, right=None, value=None):\n",
        "        self.feature = feature\n",
        "        self.threshold = threshold\n",
        "        self.left = left\n",
        "        self.right = right\n",
        "        self.value = value"
      ],
      "metadata": {
        "id": "NFJYMfFZlhUB"
      },
      "execution_count": 16,
      "outputs": []
    },
    {
      "cell_type": "code",
      "source": [
        "from collections import Counter\n",
        "\n",
        "def build_tree_classifier(X, y, max_depth, min_samples_split, depth=0):\n",
        "    if depth >= max_depth or len(set(y)) == 1 or len(y) < min_samples_split:\n",
        "        most_common = Counter(y).most_common(1)[0][0]\n",
        "        return TreeNodeClassifier(value=most_common)\n",
        "\n",
        "    feature, threshold = best_split_classification(X, y)\n",
        "    if feature is None:\n",
        "        most_common = Counter(y).most_common(1)[0][0]\n",
        "        return TreeNodeClassifier(value=most_common)\n",
        "\n",
        "    left_idx = X[:, feature] <= threshold\n",
        "    right_idx = ~left_idx\n",
        "\n",
        "    left = build_tree_classifier(X[left_idx], y[left_idx], max_depth, min_samples_split, depth+1)\n",
        "    right = build_tree_classifier(X[right_idx], y[right_idx], max_depth, min_samples_split, depth+1)\n",
        "\n",
        "    return TreeNodeClassifier(feature, threshold, left, right)"
      ],
      "metadata": {
        "id": "E8mf9SG8lk0v"
      },
      "execution_count": 17,
      "outputs": []
    },
    {
      "cell_type": "code",
      "source": [
        "def predict_tree_classifier(tree, x):\n",
        "    while tree.value is None:\n",
        "        if x[tree.feature] <= tree.threshold:\n",
        "            tree = tree.left\n",
        "        else:\n",
        "            tree = tree.right\n",
        "    return tree.value"
      ],
      "metadata": {
        "id": "bDvZWI_nloXS"
      },
      "execution_count": 18,
      "outputs": []
    },
    {
      "cell_type": "code",
      "source": [
        "class RandomForestClassifierScratch:\n",
        "    def __init__(self, n_trees=50, max_depth=6, min_samples_split=5, sample_ratio=0.75):\n",
        "        self.n_trees = n_trees\n",
        "        self.max_depth = max_depth\n",
        "        self.min_samples_split = min_samples_split\n",
        "        self.sample_ratio = sample_ratio\n",
        "        self.trees = []\n",
        "\n",
        "    def fit(self, X, y):\n",
        "        n_samples = X.shape[0]\n",
        "        for _ in range(self.n_trees):\n",
        "            idxs = np.random.choice(n_samples, int(n_samples * self.sample_ratio), replace=True)\n",
        "            X_sample = X[idxs]\n",
        "            y_sample = y[idxs]\n",
        "            tree = build_tree_classifier(X_sample, y_sample, self.max_depth, self.min_samples_split)\n",
        "            self.trees.append(tree)\n",
        "\n",
        "    def predict(self, X):\n",
        "        predictions = []\n",
        "        for x in X:\n",
        "            votes = [predict_tree_classifier(tree, x) for tree in self.trees]\n",
        "            final_vote = Counter(votes).most_common(1)[0][0]\n",
        "            predictions.append(final_vote)\n",
        "        return np.array(predictions)"
      ],
      "metadata": {
        "id": "swY2deZllrSf"
      },
      "execution_count": 19,
      "outputs": []
    },
    {
      "cell_type": "code",
      "source": [
        "from sklearn.metrics import accuracy_score  # just for evaluation\n",
        "\n",
        "# Assume y is categorical (major), maybe string\n",
        "# If it's not encoded, you can use LabelEncoder to convert it\n",
        "\n",
        "rf_classifier = RandomForestClassifierScratch(n_trees=50,max_depth=6,min_samples_split=5,sample_ratio=0.9)\n",
        "rf_classifier.fit(X_class, y_class)\n",
        "\n",
        "predictions_class = rf_classifier.predict(X_class)\n",
        "predictions_class = np.rint(predictions_class).astype(float)\n",
        "# Evaluate accuracy on training set (ideally split into test set too)\n",
        "\n",
        "accuracy = np.mean(predictions_class == y_class)\n",
        "print(f\"Training Accuracy: {accuracy:.2%}\")"
      ],
      "metadata": {
        "colab": {
          "base_uri": "https://localhost:8080/"
        },
        "id": "WnFkma4IlunR",
        "outputId": "8169f63b-238b-4d7e-eafe-20f2993e9ed5"
      },
      "execution_count": 20,
      "outputs": [
        {
          "output_type": "stream",
          "name": "stdout",
          "text": [
            "Training Accuracy: 87.00%\n"
          ]
        }
      ]
    },
    {
      "cell_type": "code",
      "source": [
        "print(\"predictions:\",predictions_class)\n",
        "predictions_class = np.rint(predictions_class).astype(int)\n",
        "print(\" yclass : \", y_class)"
      ],
      "metadata": {
        "colab": {
          "base_uri": "https://localhost:8080/"
        },
        "id": "WcFIWLtDmdzE",
        "outputId": "40f4e985-257c-4cc9-a760-7e0d491df3b2"
      },
      "execution_count": 21,
      "outputs": [
        {
          "output_type": "stream",
          "name": "stdout",
          "text": [
            "predictions: [0. 1. 0. 2. 1. 2. 2. 0. 0. 2. 0. 0. 0. 0. 0. 2. 3. 2. 2. 0. 1. 2. 0. 1.\n",
            " 1. 1. 0. 0. 3. 0. 1. 2. 2. 2. 2. 2. 0. 2. 3. 2. 2. 1. 0. 2. 0. 0. 0. 1.\n",
            " 2. 1. 0. 3. 0. 0. 2. 2. 2. 2. 2. 2. 3. 3. 0. 0. 2. 1. 1. 0. 0. 1. 2. 0.\n",
            " 2. 2. 0. 0. 1. 2. 1. 0. 3. 3. 3. 3. 2. 2. 2. 3. 3. 0. 0. 1. 0. 1. 3. 1.\n",
            " 0. 2. 0. 2. 0. 2. 2. 2. 1. 1. 2. 2. 1. 2. 0. 2. 0. 2. 0. 2. 2. 0. 2. 0.\n",
            " 2. 2. 0. 2. 2. 1. 3. 2. 2. 0. 2. 1. 3. 1. 2. 2. 3. 2. 2. 1. 0. 0. 2. 0.\n",
            " 3. 1. 0. 1. 2. 2. 3. 2. 2. 0. 1. 2. 2. 2. 2. 0. 2. 2. 0. 0. 0. 0. 2. 3.\n",
            " 1. 0. 0. 2. 0. 0. 3. 2. 0. 3. 1. 1. 0. 2. 0. 3. 0. 3. 3. 3. 2. 0. 1. 1.\n",
            " 2. 2. 3. 0. 0. 1. 2. 3.]\n",
            " yclass :  [0 1 0 1 1 2 2 0 0 2 0 0 0 0 0 2 3 2 2 0 1 2 0 1 1 1 3 0 3 0 1 2 2 2 2 2 1\n",
            " 0 2 0 2 1 3 2 0 0 0 1 2 1 0 3 0 1 2 2 2 0 2 2 3 1 0 0 2 1 1 0 0 1 2 3 2 2\n",
            " 0 0 1 2 1 0 3 3 0 3 2 0 2 0 3 0 0 1 0 1 3 1 0 2 3 3 0 2 3 2 1 1 2 2 3 2 0\n",
            " 2 0 2 0 2 2 0 2 0 0 2 0 2 2 1 3 2 2 0 2 1 3 1 2 2 3 1 2 1 0 0 2 3 3 0 0 1\n",
            " 2 2 3 2 2 0 1 2 2 2 2 0 2 2 2 0 0 0 2 3 1 0 0 0 0 0 3 2 0 3 1 1 0 2 0 3 0\n",
            " 3 3 3 2 0 1 1 2 0 3 1 0 1 2 3]\n"
          ]
        }
      ]
    },
    {
      "cell_type": "markdown",
      "source": [
        "Predicting Post Graduate Employment"
      ],
      "metadata": {
        "id": "t2lvEPwl-5Fx"
      }
    },
    {
      "cell_type": "code",
      "source": [
        "y_class_combined = processed_labels['Post Graduate Career'].values.flatten()  # this should be categorical (majors)\n",
        "print(processed_features.info)\n",
        "df_to_append = pd.DataFrame ()\n",
        "X_class_combined = processed_features.values.astype(float)\n"
      ],
      "metadata": {
        "colab": {
          "base_uri": "https://localhost:8080/"
        },
        "id": "qRtOqe_V-3wg",
        "outputId": "a8e695ca-652b-4105-9ec4-2216f69bc028"
      },
      "execution_count": 22,
      "outputs": [
        {
          "output_type": "stream",
          "name": "stdout",
          "text": [
            "<bound method DataFrame.info of      SAT Score  High School GPA  Courses in Arts  Courses in STEM  \\\n",
            "0          594             2.10                0                2   \n",
            "1         1100             3.81                1                1   \n",
            "2          494             2.06                1                4   \n",
            "3         1246             3.69                2                1   \n",
            "4          726             1.22                1                0   \n",
            "..         ...              ...              ...              ...   \n",
            "195       1055             3.49                1                3   \n",
            "196        476             1.67                1                3   \n",
            "197        946             3.50                1                1   \n",
            "198       1001             2.44                2                2   \n",
            "199        460             2.56                0                3   \n",
            "\n",
            "     Courses in Finance  Courses in Other  Age  Family Income  \\\n",
            "0                     2                 2   23         234000   \n",
            "1                     3                 1   22          41000   \n",
            "2                     1                 0   23          66000   \n",
            "3                     1                 2   25          83000   \n",
            "4                     3                 2   19         226000   \n",
            "..                  ...               ...  ...            ...   \n",
            "195                   2                 0   20         234000   \n",
            "196                   1                 1   21         148000   \n",
            "197                   3                 1   17         112000   \n",
            "198                   0                 2   20          44000   \n",
            "199                   3                 0   22         282000   \n",
            "\n",
            "     Part Time Employment  Hours of Study  Hours of Extracurriculars  \n",
            "0                       0               5                          0  \n",
            "1                       1               4                          4  \n",
            "2                       1               6                          2  \n",
            "3                       1               0                          4  \n",
            "4                       0               1                          2  \n",
            "..                    ...             ...                        ...  \n",
            "195                     1               5                          2  \n",
            "196                     1               0                          1  \n",
            "197                     0               1                          3  \n",
            "198                     0               1                          3  \n",
            "199                     1               2                          1  \n",
            "\n",
            "[200 rows x 11 columns]>\n"
          ]
        }
      ]
    },
    {
      "cell_type": "code",
      "source": [
        "from sklearn.metrics import accuracy_score  # just for evaluation\n",
        "\n",
        "# Assume y is categorical (major), maybe string\n",
        "# If it's not encoded, you can use LabelEncoder to convert it\n",
        "\n",
        "rf_classifier_combined = RandomForestClassifierScratch(n_trees=50,max_depth=6,min_samples_split=5,sample_ratio=0.9)\n",
        "rf_classifier_combined.fit(X_class_combined, y_class_combined)\n",
        "\n",
        "predictions_class_combined = rf_classifier_combined.predict(X_class_combined)\n",
        "predictions_class_combined = np.rint(predictions_class_combined).astype(float)\n",
        "# Evaluate accuracy on training set (ideally split into test set too)\n",
        "\n",
        "accuracy = np.mean(predictions_class_combined == y_class)\n",
        "print(f\"Training Accuracy: {accuracy:.2%}\")"
      ],
      "metadata": {
        "colab": {
          "base_uri": "https://localhost:8080/"
        },
        "id": "9dySUCIAAF4_",
        "outputId": "710a6b63-9afa-4788-baef-3e820cc40f83"
      },
      "execution_count": 23,
      "outputs": [
        {
          "output_type": "stream",
          "name": "stdout",
          "text": [
            "Training Accuracy: 21.50%\n"
          ]
        }
      ]
    },
    {
      "cell_type": "code",
      "source": [
        "print(\"predictions:\",predictions_class_combined)\n",
        "predictions_class_combined = np.rint(predictions_class_combined).astype(int)\n",
        "print(\" yclass : \", y_class_combined)"
      ],
      "metadata": {
        "colab": {
          "base_uri": "https://localhost:8080/"
        },
        "id": "c5vbUtcpA0Ma",
        "outputId": "ec511677-9b39-4fec-b610-46c65e6fc2eb"
      },
      "execution_count": 24,
      "outputs": [
        {
          "output_type": "stream",
          "name": "stdout",
          "text": [
            "predictions: [0. 0. 0. 1. 0. 0. 1. 1. 1. 0. 1. 1. 2. 0. 0. 0. 1. 0. 0. 2. 1. 1. 1. 0.\n",
            " 2. 2. 1. 2. 1. 0. 0. 0. 0. 0. 1. 1. 2. 1. 0. 0. 1. 0. 0. 2. 1. 1. 0. 0.\n",
            " 1. 0. 2. 1. 1. 2. 0. 1. 1. 1. 0. 0. 2. 1. 2. 2. 1. 1. 1. 2. 1. 1. 1. 1.\n",
            " 2. 1. 1. 1. 2. 1. 2. 0. 1. 0. 0. 2. 0. 0. 1. 1. 1. 1. 0. 1. 2. 1. 1. 1.\n",
            " 2. 2. 1. 2. 2. 0. 0. 1. 0. 0. 1. 1. 1. 1. 1. 1. 1. 1. 1. 0. 2. 1. 2. 2.\n",
            " 1. 0. 1. 0. 0. 0. 1. 2. 1. 2. 1. 1. 0. 0. 1. 0. 0. 0. 0. 2. 1. 2. 1. 0.\n",
            " 1. 0. 1. 1. 1. 0. 1. 2. 1. 0. 1. 2. 0. 2. 0. 1. 0. 2. 1. 2. 0. 1. 1. 0.\n",
            " 0. 0. 1. 2. 1. 1. 2. 2. 1. 1. 0. 1. 1. 1. 2. 2. 1. 0. 1. 1. 2. 0. 2. 2.\n",
            " 0. 0. 0. 2. 0. 2. 1. 2.]\n",
            " yclass :  [0 0 0 1 0 0 1 1 1 0 1 1 2 0 0 0 1 0 0 2 1 1 1 0 2 2 1 2 1 0 0 0 0 0 1 1 2\n",
            " 1 2 0 1 0 0 2 1 2 0 0 1 0 2 1 1 2 0 1 1 1 0 0 2 1 2 2 1 1 1 2 1 1 1 1 2 1\n",
            " 1 1 2 1 2 0 1 0 0 2 0 0 1 1 1 1 0 1 1 1 1 1 2 2 1 2 2 0 0 1 0 0 1 1 1 1 1\n",
            " 1 1 2 0 0 2 1 2 2 1 0 1 0 0 2 1 2 1 2 1 1 0 0 1 0 0 0 0 2 1 2 1 0 1 0 1 1\n",
            " 1 0 1 2 2 0 1 2 0 2 0 1 0 2 1 2 0 1 0 0 0 0 2 0 1 1 2 2 1 1 0 1 1 1 2 2 1\n",
            " 0 1 1 2 0 2 2 0 0 0 2 0 2 1 2]\n"
          ]
        }
      ]
    },
    {
      "cell_type": "code",
      "source": [],
      "metadata": {
        "id": "iMYtohz_JOS9"
      },
      "execution_count": null,
      "outputs": []
    }
  ]
}